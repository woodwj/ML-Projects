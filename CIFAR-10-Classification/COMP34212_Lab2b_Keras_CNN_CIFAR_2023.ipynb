{
  "cells": [
    {
      "cell_type": "markdown",
      "metadata": {
        "id": "m_SLMzgGIpjE"
      },
      "source": [
        "Advanced Convolutional Neural Networks (CNNs) with CIFAR-10 dataset\n",
        "=========\n",
        "\n",
        "In this tutorial we will learn how to use more complex CNNs, showing that the training of a __deeper__ CNN can improve the performance of the model. We will also explore the concept of __data augmentation__ to understand how to increase the variability of the training set by, for example, rotating the original images to generate new training stimuli.\n",
        "\n",
        "This tutorail will use the CIFAR-10 training set.\n"
      ]
    },
    {
      "cell_type": "markdown",
      "metadata": {
        "id": "PKafL_SXIpjI"
      },
      "source": [
        "**CNN for CIFAR-10**\n",
        "\n",
        "To work with more complex CNNs, we will now use a more complex training dataset called __CIFAR-10__. https://www.cs.toronto.edu/~kriz/cifar.html . CIFAR-10 is a benchamark machine learning set of low-resolution, colour images. It includes 60000 32x32 colour (using 3 RGB colour channels) images in these 10 classes of objects: airplane, automobile, bird, cat, deer, dog, frog, horse, ship, truck. Each class has 6000. There are 50000 training images and 10000 test images. This dataset is enclosed in the default Anaconda KERAS package. \n"
      ]
    },
    {
      "cell_type": "markdown",
      "metadata": {
        "id": "XSw16YYkIpjK"
      },
      "source": [
        "**Initialisation of the program**\n",
        "\n",
        "The program starts with the importing of typical Keras and other Python service modules. "
      ]
    },
    {
      "cell_type": "code",
      "execution_count": null,
      "metadata": {
        "colab": {
          "base_uri": "https://localhost:8080/"
        },
        "id": "x595vK3pIpjN",
        "outputId": "422206db-2d3f-4bd4-d07c-b205eb6007ec"
      },
      "outputs": [
        {
          "name": "stdout",
          "output_type": "stream",
          "text": [
            "Libraries imported.\n"
          ]
        }
      ],
      "source": [
        "# importing of modules for CIFAR-10 CNN \n",
        "from tensorflow.keras.datasets import cifar10\n",
        "from tensorflow.keras import utils\n",
        "from tensorflow.keras.models import Sequential\n",
        "from tensorflow.keras.layers import Dense, Dropout, Activation, Flatten\n",
        "from tensorflow.keras.layers import Conv2D, MaxPooling2D\n",
        "from tensorflow.keras.optimizers.legacy import SGD, Adam, RMSprop\n",
        "\n",
        "# importing of service libraries\n",
        "import numpy as np\n",
        "import matplotlib.pyplot as plt\n",
        "\n",
        "print('Libraries imported.')"
      ]
    },
    {
      "cell_type": "markdown",
      "metadata": {
        "id": "Wx5--x5hIpjV"
      },
      "source": [
        "The following constant and variable definitions are needed for the network and training parameters.\n"
      ]
    },
    {
      "cell_type": "code",
      "execution_count": null,
      "metadata": {
        "colab": {
          "base_uri": "https://localhost:8080/"
        },
        "id": "O1SvoRcMIpjX",
        "outputId": "51831c4b-8f85-4570-ee52-326ed271a935"
      },
      "outputs": [
        {
          "name": "stdout",
          "output_type": "stream",
          "text": [
            "Main variables initialised.\n"
          ]
        }
      ],
      "source": [
        "#training constants\n",
        "BATCH_SIZE = 128\n",
        "N_EPOCH = 20 # use 20 for best initial results\n",
        "N_CLASSES = 10\n",
        "VERBOSE = 1\n",
        "VALIDATION_SPLIT = 0.2\n",
        "OPTIM = RMSprop()\n",
        "\n",
        "print('Main variables initialised.')"
      ]
    },
    {
      "cell_type": "markdown",
      "metadata": {
        "id": "KpuekS__Ipjd"
      },
      "source": [
        "Constant definition for the training set images"
      ]
    },
    {
      "cell_type": "code",
      "execution_count": null,
      "metadata": {
        "colab": {
          "base_uri": "https://localhost:8080/"
        },
        "id": "DWaibn5BIpje",
        "outputId": "c1855f56-e2f6-445c-9ec9-59b638dd6d1f"
      },
      "outputs": [
        {
          "name": "stdout",
          "output_type": "stream",
          "text": [
            "Image variables initialisation\n"
          ]
        }
      ],
      "source": [
        "# CIFAR_10 is a set of 60K images 32x32 pixels on 3 channels\n",
        "IMG_CHANNELS = 3\n",
        "IMG_ROWS = 32\n",
        "IMG_COLS = 32\n",
        "\n",
        "print('Image variables initialisation')"
      ]
    },
    {
      "cell_type": "markdown",
      "metadata": {
        "id": "QcOhLgJ8Ipjk"
      },
      "source": [
        "__CIFAR-10 data loading and processing__\n",
        "\n",
        "Loading and preparation of the CIFAR-10 training set."
      ]
    },
    {
      "cell_type": "code",
      "execution_count": null,
      "metadata": {
        "colab": {
          "base_uri": "https://localhost:8080/"
        },
        "id": "uVzGwn80Ipjm",
        "outputId": "b5c2f64e-2821-4813-af77-ef63090b1887"
      },
      "outputs": [
        {
          "name": "stdout",
          "output_type": "stream",
          "text": [
            "Downloading data from https://www.cs.toronto.edu/~kriz/cifar-10-python.tar.gz\n",
            "170498071/170498071 [==============================] - 4s 0us/step\n",
            "input_X_train shape: (50000, 32, 32, 3)\n",
            "50000 train samples\n",
            "10000 test samples\n"
          ]
        }
      ],
      "source": [
        "#load dataset\n",
        "(input_X_train, output_y_train), (input_X_test, output_y_test) = cifar10.load_data()\n",
        "print('input_X_train shape:', input_X_train.shape)\n",
        "print(input_X_train.shape[0], 'train samples')\n",
        "print(input_X_test.shape[0], 'test samples')\n",
        " \n",
        "# convert to categorical\n",
        "output_Y_train = utils.to_categorical(output_y_train, N_CLASSES)\n",
        "output_Y_test = utils.to_categorical(output_y_test, N_CLASSES) \n",
        "\n",
        "# float and normalization\n",
        "input_X_train = input_X_train.astype('float32')\n",
        "input_X_test = input_X_test.astype('float32')\n",
        "input_X_train /= 255\n",
        "input_X_test /= 255\n"
      ]
    },
    {
      "cell_type": "markdown",
      "metadata": {
        "id": "f6_L0SrmIpjr"
      },
      "source": [
        "**Visualisation of two sample CIFAR-10 images**\n",
        "\n",
        "Here we will visualise two sample images from the dataset."
      ]
    },
    {
      "cell_type": "code",
      "execution_count": null,
      "metadata": {
        "colab": {
          "base_uri": "https://localhost:8080/",
          "height": 1000
        },
        "id": "U2gu1BhgIpjs",
        "outputId": "5eb14947-6d18-460e-a3ee-d359681bbd1b"
      },
      "outputs": [
        {
          "name": "stdout",
          "output_type": "stream",
          "text": [
            "Sample input image: [[[1.         1.         1.        ]\n",
            "  [0.99215686 0.99215686 0.99215686]\n",
            "  [0.99215686 0.99215686 0.99215686]\n",
            "  ...\n",
            "  [0.99215686 0.99215686 0.99215686]\n",
            "  [0.99215686 0.99215686 0.99215686]\n",
            "  [0.99215686 0.99215686 0.99215686]]\n",
            "\n",
            " [[1.         1.         1.        ]\n",
            "  [1.         1.         1.        ]\n",
            "  [1.         1.         1.        ]\n",
            "  ...\n",
            "  [1.         1.         1.        ]\n",
            "  [1.         1.         1.        ]\n",
            "  [1.         1.         1.        ]]\n",
            "\n",
            " [[1.         1.         1.        ]\n",
            "  [0.99607843 0.99607843 0.99607843]\n",
            "  [0.99607843 0.99607843 0.99607843]\n",
            "  ...\n",
            "  [0.99607843 0.99607843 0.99607843]\n",
            "  [0.99607843 0.99607843 0.99607843]\n",
            "  [0.99607843 0.99607843 0.99607843]]\n",
            "\n",
            " ...\n",
            "\n",
            " [[0.44313726 0.47058824 0.4392157 ]\n",
            "  [0.43529412 0.4627451  0.43529412]\n",
            "  [0.4117647  0.4392157  0.41568628]\n",
            "  ...\n",
            "  [0.28235295 0.31764707 0.3137255 ]\n",
            "  [0.28235295 0.3137255  0.30980393]\n",
            "  [0.28235295 0.3137255  0.30980393]]\n",
            "\n",
            " [[0.43529412 0.4627451  0.43137255]\n",
            "  [0.40784314 0.43529412 0.40784314]\n",
            "  [0.3882353  0.41568628 0.38431373]\n",
            "  ...\n",
            "  [0.26666668 0.29411766 0.28627452]\n",
            "  [0.27450982 0.29803923 0.29411766]\n",
            "  [0.30588236 0.32941177 0.32156864]]\n",
            "\n",
            " [[0.41568628 0.44313726 0.4117647 ]\n",
            "  [0.3882353  0.41568628 0.38431373]\n",
            "  [0.37254903 0.4        0.36862746]\n",
            "  ...\n",
            "  [0.30588236 0.33333334 0.3254902 ]\n",
            "  [0.30980393 0.33333334 0.3254902 ]\n",
            "  [0.3137255  0.3372549  0.32941177]]]\n"
          ]
        },
        {
          "data": {
            "image/png": "[encoded data removed]",
            "text/plain": [
              "<Figure size 432x288 with 1 Axes>"
            ]
          },
          "metadata": {
            "needs_background": "light"
          },
          "output_type": "display_data"
        },
        {
          "name": "stdout",
          "output_type": "stream",
          "text": [
            "Sample input image: [[[0.10980392 0.09803922 0.03921569]\n",
            "  [0.14509805 0.13333334 0.07450981]\n",
            "  [0.14901961 0.13725491 0.07843138]\n",
            "  ...\n",
            "  [0.29803923 0.2627451  0.15294118]\n",
            "  [0.31764707 0.28235295 0.16862746]\n",
            "  [0.33333334 0.29803923 0.18431373]]\n",
            "\n",
            " [[0.12941177 0.10980392 0.05098039]\n",
            "  [0.13333334 0.11764706 0.05490196]\n",
            "  [0.1254902  0.10588235 0.04705882]\n",
            "  ...\n",
            "  [0.37254903 0.32156864 0.21568628]\n",
            "  [0.3764706  0.32156864 0.21960784]\n",
            "  [0.33333334 0.28235295 0.1764706 ]]\n",
            "\n",
            " [[0.15294118 0.1254902  0.05882353]\n",
            "  [0.15686275 0.12941177 0.06666667]\n",
            "  [0.22352941 0.19607843 0.12941177]\n",
            "  ...\n",
            "  [0.3647059  0.29803923 0.20392157]\n",
            "  [0.41960785 0.34901962 0.25882354]\n",
            "  [0.37254903 0.3019608  0.21176471]]\n",
            "\n",
            " ...\n",
            "\n",
            " [[0.3254902  0.28627452 0.20392157]\n",
            "  [0.34117648 0.3019608  0.21960784]\n",
            "  [0.32941177 0.2901961  0.20392157]\n",
            "  ...\n",
            "  [0.3882353  0.3647059  0.27450982]\n",
            "  [0.3529412  0.32941177 0.23921569]\n",
            "  [0.31764707 0.29411766 0.20392157]]\n",
            "\n",
            " [[0.34509805 0.28235295 0.2       ]\n",
            "  [0.3529412  0.2901961  0.20392157]\n",
            "  [0.3647059  0.3019608  0.21960784]\n",
            "  ...\n",
            "  [0.3137255  0.2901961  0.20784314]\n",
            "  [0.29803923 0.27450982 0.19215687]\n",
            "  [0.32156864 0.29803923 0.21568628]]\n",
            "\n",
            " [[0.38039216 0.30588236 0.21960784]\n",
            "  [0.36862746 0.29411766 0.20784314]\n",
            "  [0.3647059  0.29411766 0.20784314]\n",
            "  ...\n",
            "  [0.21176471 0.18431373 0.10980392]\n",
            "  [0.24705882 0.21960784 0.14509805]\n",
            "  [0.28235295 0.25490198 0.18039216]]]\n"
          ]
        },
        {
          "data": {
            "image/png": "[encoded data removed]",
            "text/plain": [
              "<Figure size 432x288 with 1 Axes>"
            ]
          },
          "metadata": {
            "needs_background": "light"
          },
          "output_type": "display_data"
        }
      ],
      "source": [
        "# visualisation of the numerical vector and 2D colour plot of the sample CIFAR imnage 2\n",
        "Selected_Image = 2\n",
        "image = input_X_train[Selected_Image]\n",
        "print (\"Sample input image: \" + str(image))\n",
        "plt.imshow(image)\n",
        "plt.show() \n",
        "\n",
        "Selected_Image = 3\n",
        "image = input_X_train[Selected_Image]\n",
        "print (\"Sample input image: \" + str(image))\n",
        "plt.imshow(image)\n",
        "plt.show() \n",
        "\n",
        "\n",
        "\n"
      ]
    },
    {
      "cell_type": "markdown",
      "metadata": {
        "id": "rTUkz65eIpjx"
      },
      "source": [
        "**Simple CNN model definition**\n",
        "\n",
        "This code defines a simple CNN network.\n",
        "The model will learn 32 convolutional filters, each of a 3 x 3 size. The output dimension is the same one of the input shape, with a 32 x 32 filters (default stride of 1 is used). The activation function ReLU will be used. \n",
        "The network then has a max-pooling layer with pool size 2 x 2, and a dropout at 25%.\n",
        "\n",
        "The next level of depth has a dense layer with 512 units and ReLU activation, followed by a dropout at 50%.\n",
        "Finally, a softmax layer is used with 10 units/classes as output, i.e. one for each of the 10 classes of objects encoded with one-hot coding."
      ]
    },
    {
      "cell_type": "code",
      "execution_count": null,
      "metadata": {
        "colab": {
          "base_uri": "https://localhost:8080/"
        },
        "id": "ZAWZ0UKzIpjz",
        "outputId": "2dccb2ca-7b79-4e6d-d155-0cf251e0bcd2"
      },
      "outputs": [
        {
          "name": "stdout",
          "output_type": "stream",
          "text": [
            "CNN network definition.\n"
          ]
        }
      ],
      "source": [
        "# network definition\n",
        "\n",
        "model = Sequential()\n",
        "model.add(Conv2D(32, (3, 3), padding='same', input_shape=(IMG_ROWS, IMG_COLS, IMG_CHANNELS)))\n",
        "model.add(Activation('relu'))\n",
        "model.add(MaxPooling2D(pool_size=(2, 2)))\n",
        "model.add(Dropout(0.25))\n",
        "  \n",
        "model.add(Flatten())\n",
        "model.add(Dense(512))\n",
        "model.add(Activation('relu'))\n",
        "model.add(Dropout(0.5))\n",
        "\n",
        "model.add(Dense(N_CLASSES))\n",
        "model.add(Activation('softmax'))\n",
        "\n",
        "print('CNN network definition.')"
      ]
    },
    {
      "cell_type": "markdown",
      "metadata": {
        "id": "M8B4dEyVIpj2"
      },
      "source": [
        "**Model compilation**\n",
        "\n",
        "This compiles the CNN model, and then shows its summary. \n"
      ]
    },
    {
      "cell_type": "code",
      "execution_count": null,
      "metadata": {
        "colab": {
          "base_uri": "https://localhost:8080/"
        },
        "id": "rLrhT0HSIpj4",
        "outputId": "feaa2ef9-11af-4274-a5a5-4584e81b4569",
        "scrolled": true
      },
      "outputs": [
        {
          "name": "stdout",
          "output_type": "stream",
          "text": [
            "Model: \"sequential\"\n",
            "_________________________________________________________________\n",
            " Layer (type)                Output Shape              Param #   \n",
            "=================================================================\n",
            " conv2d (Conv2D)             (None, 32, 32, 32)        896       \n",
            "                                                                 \n",
            " activation (Activation)     (None, 32, 32, 32)        0         \n",
            "                                                                 \n",
            " max_pooling2d (MaxPooling2D  (None, 16, 16, 32)       0         \n",
            " )                                                               \n",
            "                                                                 \n",
            " dropout (Dropout)           (None, 16, 16, 32)        0         \n",
            "                                                                 \n",
            " flatten (Flatten)           (None, 8192)              0         \n",
            "                                                                 \n",
            " dense (Dense)               (None, 512)               4194816   \n",
            "                                                                 \n",
            " activation_1 (Activation)   (None, 512)               0         \n",
            "                                                                 \n",
            " dropout_1 (Dropout)         (None, 512)               0         \n",
            "                                                                 \n",
            " dense_1 (Dense)             (None, 10)                5130      \n",
            "                                                                 \n",
            " activation_2 (Activation)   (None, 10)                0         \n",
            "                                                                 \n",
            "=================================================================\n",
            "Total params: 4,200,842\n",
            "Trainable params: 4,200,842\n",
            "Non-trainable params: 0\n",
            "_________________________________________________________________\n"
          ]
        }
      ],
      "source": [
        "# compile the model\n",
        "model.compile(loss='categorical_crossentropy', optimizer=OPTIM, metrics=['accuracy'])\n",
        "\n",
        "model.summary()\n"
      ]
    },
    {
      "cell_type": "markdown",
      "metadata": {
        "id": "rAJPemJyIpj9"
      },
      "source": [
        "**Training of the CNN**\n",
        "\n",
        "This line of code trains the model, saving the results in the history variable.\n",
        "\n"
      ]
    },
    {
      "cell_type": "code",
      "execution_count": null,
      "metadata": {
        "colab": {
          "base_uri": "https://localhost:8080/"
        },
        "id": "s9K5fqdXIpj-",
        "outputId": "d76c2448-a881-4625-b191-d097f29d2da2"
      },
      "outputs": [
        {
          "name": "stdout",
          "output_type": "stream",
          "text": [
            "Epoch 1/2\n",
            "313/313 [==============================] - 13s 10ms/step - loss: 1.8563 - accuracy: 0.3552 - val_loss: 1.4940 - val_accuracy: 0.4773\n",
            "Epoch 2/2\n",
            "313/313 [==============================] - 2s 8ms/step - loss: 1.4347 - accuracy: 0.4895 - val_loss: 1.2876 - val_accuracy: 0.5510\n"
          ]
        }
      ],
      "source": [
        "# training/fitting of the DNN model\n",
        "history = model.fit(input_X_train, output_Y_train, batch_size=BATCH_SIZE, epochs=N_EPOCH, validation_split=VALIDATION_SPLIT,  verbose=VERBOSE)\n"
      ]
    },
    {
      "cell_type": "markdown",
      "metadata": {
        "id": "7-kbN3RlIpkD"
      },
      "source": [
        "**Saving of the model and of the trained weights**\n",
        "\n",
        "This saves the model definition and the weights, after training.\n",
        "\n"
      ]
    },
    {
      "cell_type": "code",
      "execution_count": null,
      "metadata": {
        "colab": {
          "base_uri": "https://localhost:8080/"
        },
        "id": "Z57S_sTRIpkF",
        "outputId": "72203aab-f064-473f-db85-5bfa788ad8f2"
      },
      "outputs": [
        {
          "name": "stdout",
          "output_type": "stream",
          "text": [
            "Files saved for model definition and for weights.\n"
          ]
        }
      ],
      "source": [
        "#save model in json format into a file\n",
        "model_json = model.to_json()\n",
        "open('cifar10_architecture.json', 'w').write(model_json)\n",
        "\n",
        "#save the trained weights\n",
        "model.save_weights('cifar10_weights.h5', overwrite=True)\n",
        "\n",
        "print('Files saved for model definition and for weights.')"
      ]
    },
    {
      "cell_type": "markdown",
      "metadata": {
        "id": "7GvXVkx1IpkJ"
      },
      "source": [
        "**Analysis of the results**\n",
        "\n",
        "This code generates the test scores, so we can visualise and inspect the model's peformance.\n",
        "\n",
        "It also plots the accuracy and loss values along the training timescale.\n"
      ]
    },
    {
      "cell_type": "code",
      "execution_count": null,
      "metadata": {
        "colab": {
          "base_uri": "https://localhost:8080/",
          "height": 660
        },
        "id": "N2XtixmtIpkL",
        "outputId": "df3e643a-21f6-4518-fdac-58fa34c17c52"
      },
      "outputs": [
        {
          "name": "stdout",
          "output_type": "stream",
          "text": [
            "79/79 [==============================] - 0s 5ms/step - loss: 1.2726 - accuracy: 0.5474\n",
            "\n",
            "Test score/loss: 1.2725884914398193\n",
            "Test accuracy: 0.5473999977111816\n",
            "dict_keys(['loss', 'accuracy', 'val_loss', 'val_accuracy'])\n"
          ]
        },
        {
          "data": {
            "image/png": "[encoded data removed]",
            "text/plain": [
              "<Figure size 432x288 with 1 Axes>"
            ]
          },
          "metadata": {
            "needs_background": "light"
          },
          "output_type": "display_data"
        },
        {
          "data": {
            "image/png": "[encoded data removed]",
            "text/plain": [
              "<Figure size 432x288 with 1 Axes>"
            ]
          },
          "metadata": {
            "needs_background": "light"
          },
          "output_type": "display_data"
        }
      ],
      "source": [
        "#Testing\n",
        "score = model.evaluate(input_X_test, output_Y_test, batch_size=BATCH_SIZE, verbose=VERBOSE)\n",
        "print(\"\\nTest score/loss:\", score[0])\n",
        "print('Test accuracy:', score[1])\n",
        "\n",
        "# list all data in history\n",
        "print(history.history.keys())\n",
        "\n",
        "# summarize history for accuracy\n",
        "#plt.plot(mo)\n",
        "plt.plot(history.history['accuracy'])\n",
        "plt.plot(history.history['val_accuracy'])\n",
        "plt.title('model accuracy')\n",
        "plt.ylabel('accuracy')\n",
        "plt.xlabel('epoch')\n",
        "plt.legend(['train', 'test'], loc='upper left')\n",
        "plt.show()\n",
        "\n",
        "# summarize history for loss\n",
        "plt.plot(history.history['loss'])\n",
        "plt.plot(history.history['val_loss'])\n",
        "plt.title('model loss')\n",
        "plt.ylabel('loss')\n",
        "plt.xlabel('epoch')\n",
        "plt.legend(['train', 'test'], loc='upper left')\n",
        "plt.show()\n"
      ]
    },
    {
      "cell_type": "markdown",
      "metadata": {
        "id": "1o9i5nqDIpkO"
      },
      "source": [
        "A deeper CNN\n",
        "-------------\n",
        "\n",
        "To improve the performance of the network on the CIFAR-10 dataset, it is possible to use a deeper CNN, with a chain of multiple convolution and pooling layers.\n",
        "The following network will be used:\n",
        "\n",
        "conv+conv+maxpool+dropout+conv+conv+maxpool\n",
        "\n",
        "The final classification layers will use the standard:\n",
        "\n",
        "dense+dropout+dense\n",
        "\n",
        "All the layers will use the reLu function, except the final one with the Softmax function necessary for the categorical classification \n"
      ]
    },
    {
      "cell_type": "code",
      "execution_count": null,
      "metadata": {
        "colab": {
          "base_uri": "https://localhost:8080/"
        },
        "id": "VmaK6n4AIpkP",
        "outputId": "72f4485b-572b-4989-b03e-07be8090c7c1"
      },
      "outputs": [
        {
          "name": "stdout",
          "output_type": "stream",
          "text": [
            "Model: \"sequential_2\"\n",
            "_________________________________________________________________\n",
            " Layer (type)                Output Shape              Param #   \n",
            "=================================================================\n",
            " conv2d_5 (Conv2D)           (None, 32, 32, 32)        896       \n",
            "                                                                 \n",
            " activation_9 (Activation)   (None, 32, 32, 32)        0         \n",
            "                                                                 \n",
            " conv2d_6 (Conv2D)           (None, 32, 32, 32)        9248      \n",
            "                                                                 \n",
            " activation_10 (Activation)  (None, 32, 32, 32)        0         \n",
            "                                                                 \n",
            " max_pooling2d_3 (MaxPooling  (None, 16, 16, 32)       0         \n",
            " 2D)                                                             \n",
            "                                                                 \n",
            " dropout_5 (Dropout)         (None, 16, 16, 32)        0         \n",
            "                                                                 \n",
            " conv2d_7 (Conv2D)           (None, 16, 16, 64)        18496     \n",
            "                                                                 \n",
            " activation_11 (Activation)  (None, 16, 16, 64)        0         \n",
            "                                                                 \n",
            " conv2d_8 (Conv2D)           (None, 5, 5, 64)          36928     \n",
            "                                                                 \n",
            " activation_12 (Activation)  (None, 5, 5, 64)          0         \n",
            "                                                                 \n",
            " max_pooling2d_4 (MaxPooling  (None, 2, 2, 64)         0         \n",
            " 2D)                                                             \n",
            "                                                                 \n",
            " dropout_6 (Dropout)         (None, 2, 2, 64)          0         \n",
            "                                                                 \n",
            " flatten_2 (Flatten)         (None, 256)               0         \n",
            "                                                                 \n",
            " dense_4 (Dense)             (None, 512)               131584    \n",
            "                                                                 \n",
            " activation_13 (Activation)  (None, 512)               0         \n",
            "                                                                 \n",
            " dropout_7 (Dropout)         (None, 512)               0         \n",
            "                                                                 \n",
            " dense_5 (Dense)             (None, 10)                5130      \n",
            "                                                                 \n",
            " activation_14 (Activation)  (None, 10)                0         \n",
            "                                                                 \n",
            "=================================================================\n",
            "Total params: 202,282\n",
            "Trainable params: 202,282\n",
            "Non-trainable params: 0\n",
            "_________________________________________________________________\n"
          ]
        }
      ],
      "source": [
        "# REUSE THE SAME INITIALISATION CODE AND THE TRAINING AND TEST DATA SET LOADING OPERATION\n",
        "\n",
        "N_EPOCH = 40 # 40 bigger network will benefit from extra training epochs\n",
        "\n",
        "# Complex DNN model definition\n",
        "model = Sequential()\n",
        " \n",
        "model.add(Conv2D(32, kernel_size=3, padding='same', input_shape=(IMG_ROWS, IMG_COLS, IMG_CHANNELS)))\n",
        "model.add(Activation('relu'))\n",
        "model.add(Conv2D(32, kernel_size=3, padding='same'))\n",
        "model.add(Activation('relu'))\n",
        "model.add(MaxPooling2D(pool_size=(2, 2)))\n",
        "model.add(Dropout(0.25))\n",
        " \n",
        "model.add(Conv2D(64, kernel_size=3, padding='same'))\n",
        "model.add(Activation('relu'))\n",
        "model.add(Conv2D(64, 3, 3))\n",
        "model.add(Activation('relu'))\n",
        "model.add(MaxPooling2D(pool_size=(2, 2)))\n",
        "model.add(Dropout(0.25))\n",
        " \n",
        "model.add(Flatten())\n",
        "model.add(Dense(512))\n",
        "model.add(Activation('relu'))\n",
        "model.add(Dropout(0.5))\n",
        "model.add(Dense(N_CLASSES))\n",
        "model.add(Activation('softmax'))\n",
        "\n",
        "\n",
        "#optim = SGD(lr=0.01, decay=1e-6, momentum=0.9, nesterov=True)\n",
        "model.compile(loss='categorical_crossentropy', optimizer=OPTIM, metrics=['accuracy'])\n",
        "\n",
        "model.summary()\n",
        " \n"
      ]
    },
    {
      "cell_type": "markdown",
      "metadata": {
        "id": "N_WU_cUNkmr-"
      },
      "source": [
        "**Training of the deeper CNN**\n",
        "\n",
        "Let's train (fit) this new model.\n",
        "\n"
      ]
    },
    {
      "cell_type": "code",
      "execution_count": null,
      "metadata": {
        "colab": {
          "base_uri": "https://localhost:8080/"
        },
        "id": "ctRJSHkVkmr_",
        "outputId": "c00b1c5f-28e7-43aa-cc3c-0384b01ad3a1"
      },
      "outputs": [
        {
          "name": "stdout",
          "output_type": "stream",
          "text": [
            "Epoch 1/2\n",
            "313/313 [==============================] - 6s 15ms/step - loss: 1.9879 - accuracy: 0.2587 - val_loss: 1.7208 - val_accuracy: 0.3566\n",
            "Epoch 2/2\n",
            "313/313 [==============================] - 4s 12ms/step - loss: 1.6632 - accuracy: 0.3871 - val_loss: 1.4645 - val_accuracy: 0.4674\n"
          ]
        }
      ],
      "source": [
        "# training/fitting of the complex DNN model \n",
        "history = model.fit(input_X_train, output_Y_train, batch_size=BATCH_SIZE, epochs=N_EPOCH, validation_split=VALIDATION_SPLIT,  verbose=VERBOSE)\n"
      ]
    },
    {
      "cell_type": "markdown",
      "metadata": {
        "id": "hhkax6pXIpkT"
      },
      "source": [
        "**Analysis of the Deeper CNN results**\n",
        "\n",
        "This generates the test scores and plots for the new, deeper DNN.\n"
      ]
    },
    {
      "cell_type": "code",
      "execution_count": null,
      "metadata": {
        "colab": {
          "base_uri": "https://localhost:8080/",
          "height": 660
        },
        "id": "FfRvK-lUIpkU",
        "outputId": "f08bcd89-00a2-4b1a-c514-0ba83410ca33"
      },
      "outputs": [
        {
          "name": "stdout",
          "output_type": "stream",
          "text": [
            "79/79 [==============================] - 0s 5ms/step - loss: 1.4478 - accuracy: 0.4814\n",
            "\n",
            "Test score/loss: 1.4477880001068115\n",
            "Test accuracy: 0.4814000129699707\n",
            "dict_keys(['loss', 'accuracy', 'val_loss', 'val_accuracy'])\n"
          ]
        },
        {
          "data": {
            "image/png": "[encoded data removed]",
            "text/plain": [
              "<Figure size 432x288 with 1 Axes>"
            ]
          },
          "metadata": {
            "needs_background": "light"
          },
          "output_type": "display_data"
        },
        {
          "data": {
            "image/png": "[encoded data removed]",
            "text/plain": [
              "<Figure size 432x288 with 1 Axes>"
            ]
          },
          "metadata": {
            "needs_background": "light"
          },
          "output_type": "display_data"
        }
      ],
      "source": [
        "#Testing\n",
        "score = model.evaluate(input_X_test, output_Y_test, batch_size=BATCH_SIZE, verbose=VERBOSE)\n",
        "print(\"\\nTest score/loss:\", score[0])\n",
        "print('Test accuracy:', score[1])\n",
        "\n",
        "# list all data in history\n",
        "print(history.history.keys())\n",
        "\n",
        "# summarize history for accuracy\n",
        "#plt.plot(mo)\n",
        "plt.plot(history.history['accuracy'])\n",
        "plt.plot(history.history['val_accuracy'])\n",
        "plt.title('model accuracy')\n",
        "plt.ylabel('accuracy')\n",
        "plt.xlabel('epoch')\n",
        "plt.legend(['train', 'test'], loc='upper left')\n",
        "plt.show()\n",
        "\n",
        "# summarize history for loss\n",
        "plt.plot(history.history['loss'])\n",
        "plt.plot(history.history['val_loss'])\n",
        "plt.title('model loss')\n",
        "plt.ylabel('loss')\n",
        "plt.xlabel('epoch')\n",
        "plt.legend(['train', 'test'], loc='upper left')\n",
        "plt.show()"
      ]
    },
    {
      "cell_type": "markdown",
      "metadata": {
        "id": "v-Mzs-L7IpkZ"
      },
      "source": [
        "Data Augmentation\n",
        "-------------\n",
        "\n",
        "To further improve the performance of the model, it is advisable to use a larger training set, to expose the network to more variations of the images.\n",
        "One way to achieve this, without having to collect new images from the real world, is to __augment__ the existing images with multiple types of transformations of the dataset stimuli. This can include rotation of the image, rescaling, horizontal/vertical flip, zooming, channel shift, etc.\n",
        "\n",
        "Below is an example of the code that augments the current datase.\n",
        "\n",
        "\n"
      ]
    },
    {
      "cell_type": "code",
      "execution_count": null,
      "metadata": {
        "colab": {
          "base_uri": "https://localhost:8080/"
        },
        "id": "-85_nYLXIpkZ",
        "outputId": "5a395f4a-4765-4dbc-ee9b-e7df04a05705"
      },
      "outputs": [
        {
          "name": "stdout",
          "output_type": "stream",
          "text": [
            "Augmenting training set images...\n"
          ]
        }
      ],
      "source": [
        "from tensorflow.keras.preprocessing.image import ImageDataGenerator\n",
        "#from keras.datasets import cifar10\n",
        "\n",
        "#load dataset\n",
        "#(input_X_train, output_y_train), (input_X_test, output_y_test) = cifar10.load_data()\n",
        "\n",
        "# augumenting\n",
        "print(\"Augmenting training set images...\")\n",
        "    \n",
        "datagen = ImageDataGenerator(\n",
        "   rotation_range=40,\n",
        "   width_shift_range=0.2,\n",
        "   height_shift_range=0.2,\n",
        "   zoom_range=0.2,\n",
        "   horizontal_flip=True,\n",
        "   fill_mode='nearest')\n",
        "\n",
        "# rotation_range is a value in degrees (0 - 180) for randomly rotating pictures\n",
        "# width_shift and height_shift are ranges for randomly translating pictures vertically or horizontally\n",
        "# zoom_range is for randomly zooming pictures \n",
        "# horizontal_flip is for randomly flipping the images horizontally\n",
        "# fill_mode fills in new pixels that can appear after a rotation or a shift\n"
      ]
    },
    {
      "cell_type": "markdown",
      "metadata": {
        "id": "yWIpifR4Ipkc"
      },
      "source": [
        "__Training with augmented data__\n",
        "\n",
        "The function below used the dynamic generation of the augmented data during the training (just in time)."
      ]
    },
    {
      "cell_type": "code",
      "execution_count": null,
      "metadata": {
        "colab": {
          "base_uri": "https://localhost:8080/"
        },
        "id": "kd_JgZM9Ipkd",
        "outputId": "a1ba44e7-87da-40a8-8aee-6fdcb702bf00"
      },
      "outputs": [
        {
          "name": "stdout",
          "output_type": "stream",
          "text": [
            "Epoch 1/2\n"
          ]
        },
        {
          "name": "stderr",
          "output_type": "stream",
          "text": [
            "<ipython-input-17-27f0d892da1d>:6: UserWarning: `Model.fit_generator` is deprecated and will be removed in a future version. Please use `Model.fit`, which supports generators.\n",
            "  history = model.fit_generator(datagen.flow(input_X_train, output_Y_train, batch_size=BATCH_SIZE), steps_per_epoch=input_X_train.shape[0]//BATCH_SIZE, epochs=N_EPOCH, verbose=VERBOSE)\n"
          ]
        },
        {
          "name": "stdout",
          "output_type": "stream",
          "text": [
            "390/390 [==============================] - 33s 84ms/step - loss: 1.7518 - accuracy: 0.3607\n",
            "Epoch 2/2\n",
            "390/390 [==============================] - 31s 80ms/step - loss: 1.6588 - accuracy: 0.3969\n"
          ]
        }
      ],
      "source": [
        "\n",
        "#fit the dataset\n",
        "datagen.fit(input_X_train)\n",
        "\n",
        "\n",
        "# train by fitting the model on batches with real-time data augmentation\n",
        "history = model.fit_generator(datagen.flow(input_X_train, output_Y_train, batch_size=BATCH_SIZE), steps_per_epoch=input_X_train.shape[0]//BATCH_SIZE, epochs=N_EPOCH, verbose=VERBOSE)\n",
        "\n"
      ]
    },
    {
      "cell_type": "markdown",
      "metadata": {
        "id": "Y0ZLORlPIpkh"
      },
      "source": [
        "**Analysis of the Data Augmented, Deeper CNN results**\n",
        "\n",
        "This generates the test scores and plots for the deeper DNN trained on the augmented data."
      ]
    },
    {
      "cell_type": "code",
      "execution_count": null,
      "metadata": {
        "colab": {
          "base_uri": "https://localhost:8080/",
          "height": 660
        },
        "id": "BxZG9aM2Ipki",
        "outputId": "f933118e-27aa-4a70-ac96-e2313d2e435a"
      },
      "outputs": [
        {
          "name": "stdout",
          "output_type": "stream",
          "text": [
            "79/79 [==============================] - 0s 6ms/step - loss: 1.3647 - accuracy: 0.4979\n",
            "\n",
            "Test score/loss: 1.3647339344024658\n",
            "Test accuracy: 0.49790000915527344\n",
            "dict_keys(['loss', 'accuracy'])\n"
          ]
        },
        {
          "data": {
            "image/png": "[encoded data removed]",
            "text/plain": [
              "<Figure size 432x288 with 1 Axes>"
            ]
          },
          "metadata": {
            "needs_background": "light"
          },
          "output_type": "display_data"
        },
        {
          "data": {
            "image/png": "[encoded data removed]",
            "text/plain": [
              "<Figure size 432x288 with 1 Axes>"
            ]
          },
          "metadata": {
            "needs_background": "light"
          },
          "output_type": "display_data"
        }
      ],
      "source": [
        "#Testing\n",
        "score = model.evaluate(input_X_test, output_Y_test, batch_size=BATCH_SIZE, verbose=VERBOSE)\n",
        "print(\"\\nTest score/loss:\", score[0])\n",
        "print('Test accuracy:', score[1])\n",
        "\n",
        "# list all data in history\n",
        "print(history.history.keys())\n",
        "\n",
        "# summarize history for accuracy\n",
        "#plt.plot(mo)\n",
        "plt.plot(history.history['accuracy'])\n",
        "plt.title('model accuracy')\n",
        "plt.ylabel('accuracy')\n",
        "plt.xlabel('epoch')\n",
        "plt.legend(['train', 'test'], loc='upper left')\n",
        "plt.show()\n",
        "\n",
        "# summarize history for loss\n",
        "plt.plot(history.history['loss'])\n",
        "plt.title('model loss')\n",
        "plt.ylabel('loss')\n",
        "plt.xlabel('epoch')\n",
        "plt.legend(['train', 'test'], loc='upper left')\n",
        "plt.show()\n",
        "\n"
      ]
    },
    {
      "cell_type": "markdown",
      "metadata": {
        "id": "4Bwi-kLYIpkl"
      },
      "source": [
        "Below is a commented different example of a data augmentation approach. \n",
        "\n",
        "But we have carried out plenty of slow, long simulations for this class, and we can stop here."
      ]
    },
    {
      "cell_type": "code",
      "execution_count": null,
      "metadata": {
        "id": "q_JAWfc4Ipkm"
      },
      "outputs": [],
      "source": [
        "\n",
        "from tensorflow.keras.preprocessing.image import ImageDataGenerator\n",
        "\n",
        "datagen = ImageDataGenerator(\n",
        "        featurewise_center=False,  # set input mean to 0 over the dataset\n",
        "        samplewise_center=False,  # set each sample mean to 0\n",
        "        featurewise_std_normalization=False,  # divide inputs by std of the dataset\n",
        "        samplewise_std_normalization=False,  # divide each input by its std\n",
        "        zca_whitening=False,  # apply ZCA whitening\n",
        "        rotation_range=0,  # randomly rotate images in the range (degrees, 0 to 180)\n",
        "        width_shift_range=0.1,  # randomly shift images horizontally (fraction of total width)\n",
        "        height_shift_range=0.1,  # randomly shift images vertically (fraction of total height)\n",
        "        horizontal_flip=True,  # randomly flip images\n",
        "        vertical_flip=False)  # randomly flip images\n",
        "\n",
        "datagen.fit(input_X_train)"
      ]
    },
    {
      "cell_type": "markdown",
      "metadata": {
        "id": "ouCjBST_Ipkq"
      },
      "source": [
        "Conclusions\n",
        "-------------\n",
        "\n",
        "Today we learned to train more complex DNNs, and to use data augmentation to further improve the network training and performance.\n",
        "\n",
        "**Copyright (c)** 2022 Angelo Cangelosi, MIT License. Code and examples adapted from Gulli & Pal (2017) Deep Learning with Kera. Punkt Publishing. With support from Wenjie Huang."
      ]
    }
  ],
  "metadata": {
    "accelerator": "GPU",
    "colab": {
      "provenance": []
    },
    "kernelspec": {
      "display_name": "Python 3 (ipykernel)",
      "language": "python",
      "name": "python3"
    },
    "language_info": {
      "codemirror_mode": {
        "name": "ipython",
        "version": 3
      },
      "file_extension": ".py",
      "mimetype": "text/x-python",
      "name": "python",
      "nbconvert_exporter": "python",
      "pygments_lexer": "ipython3",
      "version": "3.9.7"
    }
  },
  "nbformat": 4,
  "nbformat_minor": 0
}
